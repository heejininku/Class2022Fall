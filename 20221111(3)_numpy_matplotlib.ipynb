{
  "nbformat": 4,
  "nbformat_minor": 0,
  "metadata": {
    "kernelspec": {
      "display_name": "Python 3",
      "language": "python",
      "name": "python3"
    },
    "language_info": {
      "codemirror_mode": {
        "name": "ipython",
        "version": 3
      },
      "file_extension": ".py",
      "mimetype": "text/x-python",
      "name": "python",
      "nbconvert_exporter": "python",
      "pygments_lexer": "ipython3",
      "version": "3.7.1"
    },
    "colab": {
      "provenance": [],
      "include_colab_link": true
    }
  },
  "cells": [
    {
      "cell_type": "markdown",
      "metadata": {
        "id": "view-in-github",
        "colab_type": "text"
      },
      "source": [
        "<a href=\"https://colab.research.google.com/github/heejininku/class2022Fall/blob/main/20221111(3)_numpy_matplotlib.ipynb\" target=\"_parent\"><img src=\"https://colab.research.google.com/assets/colab-badge.svg\" alt=\"Open In Colab\"/></a>"
      ]
    },
    {
      "cell_type": "markdown",
      "source": [
        "numpy는 팬더스와 비슷함.\n",
        "팬더스는 숫자일 필요가 없음. 텍스트도 들어감.\n",
        "엑셀같이 생겼는데 숫자만 있는 것. 그걸 array라고 하는 것. 또는 nd array라고도 함. array는 2차원일수도, 3,4차원일수도 있음.\n",
        "즉, 숫자 팬더스\n",
        "넘파이는 3차원, 4차원 모두 가능\n",
        "숫자가 2차원이면 행렬이라고 부름 (matrices)\n",
        "2차원 이상은, 즉 3,4,차원 등은 tensor라고 부름. tensor flow-> 파이썬 패키지 중 하나, ai 패키지 중 하나"
      ],
      "metadata": {
        "id": "XLHZ6EACQfn2"
      }
    },
    {
      "cell_type": "markdown",
      "metadata": {
        "id": "JcCdLoe_4bY7"
      },
      "source": [
        "### create nd arrays (≈matrices)\n",
        "\n",
        "3차원도 되고 4차원도 되는 nd arrays \n",
        "물론 matrices라고 불러도 된다."
      ]
    },
    {
      "cell_type": "code",
      "metadata": {
        "id": "5ap7xyofShBB"
      },
      "source": [
        "import numpy as np #간단히 np로 줄임."
      ],
      "execution_count": null,
      "outputs": []
    },
    {
      "cell_type": "code",
      "metadata": {
        "id": "2rqpSPZCShBC",
        "colab": {
          "base_uri": "https://localhost:8080/"
        },
        "outputId": "1b41b32c-0467-48b2-cf2f-7c519f7e38e4"
      },
      "source": [
        "x = np.array([1,2,3]) \n",
        "#array라는 함수(내부적으로list(_얘는 숫자, 글자 모두 들어있음) 넣어주면 nd array로 바꿔주는 것) \n",
        "#입력이 list임.\n",
        "#array는 찐숫자, list는 찐 숫자가 아닐 수 있음.\n",
        "#생긴 것은 똑같지만 아래의 type보면 ndarray임을 알 수 있음.\n",
        "#print(x.shape)하면 (3,)로 나오는데 이건 3개짜리 1d라는 뜻.\n",
        "print(x)\n",
        "print(type(x))\n",
        "print(x.shape)\n",
        "print(x.ndim) #이건 몇차원인지 나오는 것 #꺽세가 3개면 3차원"
      ],
      "execution_count": null,
      "outputs": [
        {
          "output_type": "stream",
          "name": "stdout",
          "text": [
            "[1 2 3]\n",
            "<class 'numpy.ndarray'>\n",
            "(3,)\n",
            "1\n"
          ]
        }
      ]
    },
    {
      "cell_type": "code",
      "source": [
        "x = np.array([[1,2,3], [4,5,6]])  #이렇게 하면 Shape이 (2,3) 즉, 행 2개 열 3개\n",
        "print(x)\n",
        "print(type(x))\n",
        "print(x.shape)"
      ],
      "metadata": {
        "colab": {
          "base_uri": "https://localhost:8080/"
        },
        "id": "uimQlUpSRn4-",
        "outputId": "c6df7f84-4f9e-4c14-fc93-0345f5c95ee4"
      },
      "execution_count": null,
      "outputs": [
        {
          "output_type": "stream",
          "name": "stdout",
          "text": [
            "[[1 2 3]\n",
            " [4 5 6]]\n",
            "<class 'numpy.ndarray'>\n",
            "(2, 3)\n"
          ]
        }
      ]
    },
    {
      "cell_type": "code",
      "metadata": {
        "id": "EjC88C75ShBC",
        "colab": {
          "base_uri": "https://localhost:8080/"
        },
        "outputId": "7143e4dd-2864-4b57-855e-56eb92a6bd75"
      },
      "source": [
        "x = np.arange(0,10,2) #하나의 range를 만들어주는 것. #넘파이가 만들어지는 것\n",
        "#0에서 10까지 2만큼씩 띄어서 만들어달라 (단, 10 불포함)\n",
        "print(x)\n",
        "print(type(x))\n",
        "print(x.shape) #1차원 "
      ],
      "execution_count": null,
      "outputs": [
        {
          "output_type": "stream",
          "name": "stdout",
          "text": [
            "[0 2 4 6 8]\n",
            "<class 'numpy.ndarray'>\n",
            "(5,)\n"
          ]
        }
      ]
    },
    {
      "cell_type": "code",
      "metadata": {
        "id": "-MwkCEjTShBC",
        "colab": {
          "base_uri": "https://localhost:8080/"
        },
        "outputId": "d6aad3fb-1306-43e5-c5ae-d6d5b39eddd6"
      },
      "source": [
        "x = np.linspace(0,10,6)\n",
        "#linspace는 liner space라는 뜻인데 0에서 10까지 (10 포함) 6개로 등분(liner space)해서 6개의 숫자를 만들어라\n",
        "print(x)\n",
        "print(type(x))\n",
        "print(x.shape)"
      ],
      "execution_count": null,
      "outputs": [
        {
          "output_type": "stream",
          "name": "stdout",
          "text": [
            "[ 0.  2.  4.  6.  8. 10.]\n",
            "<class 'numpy.ndarray'>\n",
            "(6,)\n"
          ]
        }
      ]
    },
    {
      "cell_type": "code",
      "metadata": {
        "id": "tjk79SQ27fNv",
        "colab": {
          "base_uri": "https://localhost:8080/"
        },
        "outputId": "34c5fd66-fcae-4d91-d988-53e99b4f1a1e"
      },
      "source": [
        "x = np.array([[1,2,3], [4,5,6]])\n",
        "print(x)\n",
        "print(type(x))\n",
        "print(x.shape) #행2개열3개"
      ],
      "execution_count": null,
      "outputs": [
        {
          "output_type": "stream",
          "name": "stdout",
          "text": [
            "[[1 2 3]\n",
            " [4 5 6]]\n",
            "<class 'numpy.ndarray'>\n",
            "(2, 3)\n"
          ]
        }
      ]
    },
    {
      "cell_type": "code",
      "metadata": {
        "id": "C1ogg6iZ7yir",
        "colab": {
          "base_uri": "https://localhost:8080/"
        },
        "outputId": "1cad3fb9-d5bd-4773-f7f3-88e71b5db075"
      },
      "source": [
        "x = np.array([[[1,2,3], [4,5,6]], [[7,8,9], [10,11,12]]]) #아 3개겠구나 추측 가능\n",
        "print(x)\n",
        "print(type(x))\n",
        "print(x.shape) "
      ],
      "execution_count": null,
      "outputs": [
        {
          "output_type": "stream",
          "name": "stdout",
          "text": [
            "[[[ 1  2  3]\n",
            "  [ 4  5  6]]\n",
            "\n",
            " [[ 7  8  9]\n",
            "  [10 11 12]]]\n",
            "<class 'numpy.ndarray'>\n",
            "(2, 2, 3)\n"
          ]
        }
      ]
    },
    {
      "cell_type": "code",
      "metadata": {
        "id": "efgeNHtD8ZlT",
        "colab": {
          "base_uri": "https://localhost:8080/"
        },
        "outputId": "b073fb4b-baf1-4f1d-bd27-2cc527cb3030"
      },
      "source": [
        "x = np.ones([2, 2, 3]) \n",
        "#2,2,3에 1이 들어가게 만들어라\n",
        "#3은 세개\n",
        "#첫번째 2는 크게 두덩어리\n",
        "#두번째 2는 작은 두덩어리\n",
        "print(x)\n",
        "print(type(x))\n",
        "print(x.shape)"
      ],
      "execution_count": null,
      "outputs": [
        {
          "output_type": "stream",
          "name": "stdout",
          "text": [
            "[[[1. 1. 1.]\n",
            "  [1. 1. 1.]]\n",
            "\n",
            " [[1. 1. 1.]\n",
            "  [1. 1. 1.]]]\n",
            "<class 'numpy.ndarray'>\n",
            "(2, 2, 3)\n"
          ]
        }
      ]
    },
    {
      "cell_type": "code",
      "metadata": {
        "id": "b_F-ccY08zzl",
        "colab": {
          "base_uri": "https://localhost:8080/"
        },
        "outputId": "b109dfb4-64f4-441f-9819-a4c622c507fc"
      },
      "source": [
        "x = np.zeros([2, 2, 3]) #3차원\n",
        "#2,2,3에 1이 들어가게 만들어라\n",
        "print(x)\n",
        "print(type(x))\n",
        "print(x.shape)\n",
        "x.reshape(3,2,2) #(6,2)를 (4,3)로 바꿀 수 있듯이 #reshape개념 중요 #개수 맞으면 구조 변경 가능\n",
        "#3차원 말고 2차원 (3,4)도 가능\n",
        "#numpy도 class라고 생각하면 , reshape도 --?(못 들음)"
      ],
      "execution_count": null,
      "outputs": [
        {
          "output_type": "stream",
          "name": "stdout",
          "text": [
            "[[[0. 0. 0.]\n",
            "  [0. 0. 0.]]\n",
            "\n",
            " [[0. 0. 0.]\n",
            "  [0. 0. 0.]]]\n",
            "<class 'numpy.ndarray'>\n",
            "(2, 2, 3)\n"
          ]
        },
        {
          "output_type": "execute_result",
          "data": {
            "text/plain": [
              "array([[[0., 0.],\n",
              "        [0., 0.]],\n",
              "\n",
              "       [[0., 0.],\n",
              "        [0., 0.]],\n",
              "\n",
              "       [[0., 0.],\n",
              "        [0., 0.]]])"
            ]
          },
          "metadata": {},
          "execution_count": 13
        }
      ]
    },
    {
      "cell_type": "markdown",
      "metadata": {
        "id": "0hQuDJ5g9gpE"
      },
      "source": [
        "### create random numbers"
      ]
    },
    {
      "cell_type": "code",
      "source": [
        "np.random.normal(0, 1, [2,3,4]) \n",
        "#넘파이의 패키지가 있는데 이 안에 여러 방이 있을 것, \n",
        "#하나의 방 안에 array가 바로 있으면 바로 numpy.array라고 하지만, \n",
        "#random 방안에 normal있으면 점이 두개-> np.random.normal\n",
        "#normal distribution을 꾸며주는 아이\n",
        "#첫번째 숫자 0은 평균\n",
        "#두번째 숫자 1은 표준편차\n",
        "#그렇게 해서 [2,3,4] array로 만들어라 (24개의 숫자-> )"
      ],
      "metadata": {
        "id": "pCVnElBgan70",
        "outputId": "73a1be0b-c055-4951-e704-287f8a822609",
        "colab": {
          "base_uri": "https://localhost:8080/"
        }
      },
      "execution_count": null,
      "outputs": [
        {
          "output_type": "execute_result",
          "data": {
            "text/plain": [
              "array([[[-0.16948446, -2.55041561,  0.12177138,  0.22205159],\n",
              "        [ 1.03710071,  0.71764148,  0.15071453, -0.45390027],\n",
              "        [-0.37514637, -0.26634169,  0.4236602 , -2.04190571]],\n",
              "\n",
              "       [[ 1.16464137,  0.06341401, -0.15303246,  0.07244766],\n",
              "        [-0.31148056, -1.59519727,  0.93028972,  0.7623865 ],\n",
              "        [-0.53108148,  0.87677634, -1.66084323,  0.36062975]]])"
            ]
          },
          "metadata": {},
          "execution_count": 14
        }
      ]
    },
    {
      "cell_type": "code",
      "metadata": {
        "id": "QRatmkx79otL"
      },
      "source": [
        "import matplotlib.pyplot as plt #그래프해주는 아이 즉, plot 그려주는 아이\n",
        "#matplotlib.pyplot matplotlib 안에 있는 pyplot 폴더까지를 plt로 부르겠다"
      ],
      "execution_count": null,
      "outputs": []
    },
    {
      "cell_type": "code",
      "metadata": {
        "id": "z1oOAB6dShBD",
        "colab": {
          "base_uri": "https://localhost:8080/",
          "height": 666
        },
        "outputId": "9a4d208b-ad66-4a98-b49a-11173558f557"
      },
      "source": [
        "x = np.random.normal(0, 1, 100) \n",
        "#평균0, 표준편차 1, 100은 100개짜리 1d array를 만들어라\n",
        "#-1.30410375e+00은 이 앞에 있는 숫자의 10의 0승\n",
        "#-8.55730740e-02는 이 숫자의 10의 -2승\n",
        "#+01승 하면 10을 곱하는 것\n",
        "#컴퓨터를 위해 아래같은 표기법 사용 (자리수 맞추려고)\n",
        "print(x)\n",
        "plt.hist(x, bins=10) #hist라는 함수 (x는 위의 1d array, bins (막대기 개수) 설정)"
      ],
      "execution_count": null,
      "outputs": [
        {
          "output_type": "stream",
          "name": "stdout",
          "text": [
            "[-0.6695835  -0.78356765  0.105909   -0.11344162  0.37639137  0.94634496\n",
            " -0.92334613  1.18490682 -0.49140323  0.21306917 -0.210384    0.83860743\n",
            "  0.66200439 -0.42017639 -1.2330022  -0.51320299  0.7816754   0.06749792\n",
            "  0.56661049  0.12921821 -0.21779304  2.93512567  0.57510899  1.24002643\n",
            " -0.87242811  1.01878975  0.59587419  1.43021827  0.25120122  1.94376407\n",
            "  0.28169401  0.51099636  1.26369207 -0.02916964 -0.09605858 -0.06161059\n",
            "  0.74145514  1.81946314 -1.15056392 -0.77217776  0.75291106  0.58317158\n",
            "  0.31517667 -0.03440521 -1.17871031  0.77286078  0.48223818  1.12227382\n",
            "  1.40324019  0.17315162 -1.33676958 -0.41035066 -0.98971368 -1.08073194\n",
            "  1.26647569 -0.19069018  0.6586206  -0.05948031 -0.24717733  0.38675048\n",
            " -0.61388729 -0.27297912  0.1545425  -0.49200607  0.46876849  1.48626796\n",
            "  0.90554824 -2.23215258  0.62146867 -1.62984399  0.24229016  0.94673591\n",
            "  0.91396797 -0.92025413 -0.29055748 -0.1869726  -1.68922816  0.45831568\n",
            "  1.05317302 -0.79739408 -1.10379713 -0.06399663  0.1551572  -0.67099221\n",
            " -0.11172887 -1.41627507  0.4203987  -0.20103424  0.79148123  0.86141821\n",
            " -0.99687991 -0.66352244 -0.55138383 -0.4032265   0.63261897 -0.33562136\n",
            " -0.18711885 -1.30376876  0.70405689  0.52287798]\n"
          ]
        },
        {
          "output_type": "execute_result",
          "data": {
            "text/plain": [
              "(array([ 1.,  6., 12., 21., 19., 24., 11.,  4.,  1.,  1.]),\n",
              " array([-2.23215258, -1.71542475, -1.19869693, -0.6819691 , -0.16524128,\n",
              "         0.35148655,  0.86821437,  1.38494219,  1.90167002,  2.41839784,\n",
              "         2.93512567]),\n",
              " <a list of 10 Patch objects>)"
            ]
          },
          "metadata": {},
          "execution_count": 18
        },
        {
          "output_type": "display_data",
          "data": {
            "text/plain": [
              "<Figure size 432x288 with 1 Axes>"
            ],
            "image/png": "[encoded data removed]"
          },
          "metadata": {
            "needs_background": "light"
          }
        }
      ]
    },
    {
      "cell_type": "code",
      "source": [
        "plt.hist(x, bins=100) #bins의 크기를 다르게 하니까 이런 느낌\n",
        "#하지만 숫자가 100개인 상황에서 100개의 bin하니까 약간 이상"
      ],
      "metadata": {
        "colab": {
          "base_uri": "https://localhost:8080/",
          "height": 772
        },
        "id": "ftEkqUyKV7T4",
        "outputId": "df1971ac-20c2-4a22-813a-98424e92d6fe"
      },
      "execution_count": null,
      "outputs": [
        {
          "output_type": "execute_result",
          "data": {
            "text/plain": [
              "(array([1., 0., 0., 0., 0., 0., 0., 0., 0., 0., 1., 1., 0., 0., 0., 1., 0.,\n",
              "        2., 0., 1., 2., 1., 1., 1., 1., 2., 1., 1., 2., 0., 3., 1., 1., 3.,\n",
              "        0., 3., 1., 2., 2., 5., 0., 4., 4., 0., 1., 2., 3., 2., 2., 1., 2.,\n",
              "        1., 3., 2., 4., 3., 2., 2., 3., 2., 2., 2., 1., 1., 1., 0., 1., 3.,\n",
              "        0., 0., 2., 1., 0., 0., 0., 0., 0., 0., 1., 0., 1., 0., 0., 0., 0.,\n",
              "        0., 0., 0., 0., 0., 0., 0., 0., 0., 0., 0., 0., 0., 0., 1.]),\n",
              " array([-2.23215258, -2.18047979, -2.12880701, -2.07713423, -2.02546145,\n",
              "        -1.97378866, -1.92211588, -1.8704431 , -1.81877032, -1.76709754,\n",
              "        -1.71542475, -1.66375197, -1.61207919, -1.56040641, -1.50873362,\n",
              "        -1.45706084, -1.40538806, -1.35371528, -1.30204249, -1.25036971,\n",
              "        -1.19869693, -1.14702415, -1.09535136, -1.04367858, -0.9920058 ,\n",
              "        -0.94033302, -0.88866023, -0.83698745, -0.78531467, -0.73364189,\n",
              "        -0.6819691 , -0.63029632, -0.57862354, -0.52695076, -0.47527797,\n",
              "        -0.42360519, -0.37193241, -0.32025963, -0.26858684, -0.21691406,\n",
              "        -0.16524128, -0.1135685 , -0.06189571, -0.01022293,  0.04144985,\n",
              "         0.09312263,  0.14479542,  0.1964682 ,  0.24814098,  0.29981376,\n",
              "         0.35148655,  0.40315933,  0.45483211,  0.50650489,  0.55817768,\n",
              "         0.60985046,  0.66152324,  0.71319602,  0.76486881,  0.81654159,\n",
              "         0.86821437,  0.91988715,  0.97155993,  1.02323272,  1.0749055 ,\n",
              "         1.12657828,  1.17825106,  1.22992385,  1.28159663,  1.33326941,\n",
              "         1.38494219,  1.43661498,  1.48828776,  1.53996054,  1.59163332,\n",
              "         1.64330611,  1.69497889,  1.74665167,  1.79832445,  1.84999724,\n",
              "         1.90167002,  1.9533428 ,  2.00501558,  2.05668837,  2.10836115,\n",
              "         2.16003393,  2.21170671,  2.2633795 ,  2.31505228,  2.36672506,\n",
              "         2.41839784,  2.47007063,  2.52174341,  2.57341619,  2.62508897,\n",
              "         2.67676176,  2.72843454,  2.78010732,  2.8317801 ,  2.88345289,\n",
              "         2.93512567]),\n",
              " <a list of 100 Patch objects>)"
            ]
          },
          "metadata": {},
          "execution_count": 19
        },
        {
          "output_type": "display_data",
          "data": {
            "text/plain": [
              "<Figure size 432x288 with 1 Axes>"
            ],
            "image/png": "[encoded data removed]"
          },
          "metadata": {
            "needs_background": "light"
          }
        }
      ]
    },
    {
      "cell_type": "code",
      "source": [
        "x = np.random.normal(0, 1, 10000)  #숫자가 많아진 상태에서 bins가 100개 되니까 의미O\n",
        "plt.hist(x, bins=100)\n",
        "#y축은 N (Number of --- 못들음)\n",
        "#count를 나타내는 것이기에 음수 안되고, 소수점도 안됨. 0이상의 정수만 가능\n",
        "#y축의 숫자들을 다 합치면 위의 총 개수 (여기서는 10000이겠지)"
      ],
      "metadata": {
        "colab": {
          "base_uri": "https://localhost:8080/",
          "height": 844
        },
        "id": "_xtBTjxOWLCR",
        "outputId": "7ec6c93f-311b-40f4-f095-0b6e5b47a545"
      },
      "execution_count": null,
      "outputs": [
        {
          "output_type": "execute_result",
          "data": {
            "text/plain": [
              "(array([  1.,   0.,   1.,   1.,   3.,   0.,   2.,   2.,   1.,   4.,   6.,\n",
              "          5.,   8.,  10.,  12.,   7.,  12.,  18.,  17.,  26.,  29.,  27.,\n",
              "         36.,  56.,  46.,  72.,  65.,  69.,  91., 114., 125., 126., 132.,\n",
              "        147., 147., 168., 200., 202., 222., 244., 274., 230., 277., 263.,\n",
              "        259., 308., 314., 325., 292., 314., 277., 322., 344., 267., 251.,\n",
              "        279., 260., 238., 238., 215., 185., 164., 197., 146., 158., 130.,\n",
              "        124., 127.,  86.,  94.,  82.,  68.,  66.,  69.,  46.,  44.,  39.,\n",
              "         28.,  26.,  21.,  25.,   9.,   9.,  15.,  10.,   4.,   6.,   3.,\n",
              "          5.,   1.,   6.,   2.,   1.,   1.,   1.,   0.,   0.,   0.,   0.,\n",
              "          1.]),\n",
              " array([-3.72173297, -3.64588236, -3.57003175, -3.49418114, -3.41833053,\n",
              "        -3.34247992, -3.26662931, -3.1907787 , -3.11492809, -3.03907748,\n",
              "        -2.96322686, -2.88737625, -2.81152564, -2.73567503, -2.65982442,\n",
              "        -2.58397381, -2.5081232 , -2.43227259, -2.35642198, -2.28057137,\n",
              "        -2.20472076, -2.12887015, -2.05301954, -1.97716893, -1.90131832,\n",
              "        -1.82546771, -1.7496171 , -1.67376649, -1.59791588, -1.52206527,\n",
              "        -1.44621466, -1.37036405, -1.29451344, -1.21866283, -1.14281222,\n",
              "        -1.06696161, -0.991111  , -0.91526039, -0.83940978, -0.76355917,\n",
              "        -0.68770856, -0.61185795, -0.53600734, -0.46015673, -0.38430612,\n",
              "        -0.30845551, -0.2326049 , -0.15675429, -0.08090368, -0.00505307,\n",
              "         0.07079754,  0.14664815,  0.22249876,  0.29834937,  0.37419998,\n",
              "         0.45005059,  0.5259012 ,  0.60175181,  0.67760242,  0.75345303,\n",
              "         0.82930364,  0.90515425,  0.98100486,  1.05685548,  1.13270609,\n",
              "         1.2085567 ,  1.28440731,  1.36025792,  1.43610853,  1.51195914,\n",
              "         1.58780975,  1.66366036,  1.73951097,  1.81536158,  1.89121219,\n",
              "         1.9670628 ,  2.04291341,  2.11876402,  2.19461463,  2.27046524,\n",
              "         2.34631585,  2.42216646,  2.49801707,  2.57386768,  2.64971829,\n",
              "         2.7255689 ,  2.80141951,  2.87727012,  2.95312073,  3.02897134,\n",
              "         3.10482195,  3.18067256,  3.25652317,  3.33237378,  3.40822439,\n",
              "         3.484075  ,  3.55992561,  3.63577622,  3.71162683,  3.78747744,\n",
              "         3.86332805]),\n",
              " <a list of 100 Patch objects>)"
            ]
          },
          "metadata": {},
          "execution_count": 21
        },
        {
          "output_type": "display_data",
          "data": {
            "text/plain": [
              "<Figure size 432x288 with 1 Axes>"
            ],
            "image/png": "[encoded data removed]"
          },
          "metadata": {
            "needs_background": "light"
          }
        }
      ]
    },
    {
      "cell_type": "markdown",
      "metadata": {
        "id": "G0exvwBbShBE"
      },
      "source": [
        "### generate a sine curve"
      ]
    },
    {
      "cell_type": "code",
      "metadata": {
        "id": "HgQmRXzMShBE",
        "colab": {
          "base_uri": "https://localhost:8080/",
          "height": 283
        },
        "outputId": "a2ea107a-d599-48e3-df40-a0fcc93aaf48"
      },
      "source": [
        "plt.figure()\n",
        "\n",
        "theta1 = np.linspace(0, 2*np.pi, 100) #.linspace는 주로 nd array 만드는 것\n",
        "#np.pi가 여기서는 3,14--- pie임.\n",
        "#0부터 360도(radian값)까지를 100개의 숫자를 등간격으로 만들어라 그걸 theta1으로 저장\n",
        "#theta1은 100개의 숫자가 들어가 있는 1d array (100,)\n",
        "s1 = np.sin(theta1) #np안의 sin 즉, sin함수에 넣은 것 (sin함수는 radian을 받음)\n",
        "#s1은 총 100개의 값이 받아져있는 것. 그럼 출력값이 나오겠지 (사인 2분의 1파이는 1 이런식으로)\n",
        "theta2 = np.linspace(0, 2*np.pi, 100) + np.pi/2 \n",
        "#2분의 파이를 더한 것.(90도만큼 이동) \n",
        "#첫번째가 사인 2분의 파이라는 값이 나오겠지(?)\n",
        "s2 = np.sin(theta2)\n",
        "\n",
        "plt.subplot(2, 1, 1) # (rows, columns, panel number) #2,1로 만든 것(2행으로 (위, 아래로))\n",
        "#2,3을 처음에 쓴다면 유리창이 6개인 느낌\n",
        "plt.plot(theta1, s1, '.')\n",
        "plt.subplot(2, 1, 2) # (rows, columns, panel number)\n",
        "plt.plot(theta2, s2, '.')\n",
        "\n",
        "\n",
        "#inner product할 때 각도가 90도 차이나면, 코사인 90도가 되어서 그냥 0과 같음 \n",
        "#따라서 r값이 0이 된다.(correlation)"
      ],
      "execution_count": null,
      "outputs": [
        {
          "output_type": "execute_result",
          "data": {
            "text/plain": [
              "[<matplotlib.lines.Line2D at 0x7f240ab96650>]"
            ]
          },
          "metadata": {},
          "execution_count": 23
        },
        {
          "output_type": "display_data",
          "data": {
            "text/plain": [
              "<Figure size 432x288 with 2 Axes>"
            ],
            "image/png": "[encoded data removed]"
          },
          "metadata": {
            "needs_background": "light"
          }
        }
      ]
    },
    {
      "cell_type": "code",
      "metadata": {
        "id": "TuH489v9BvQ7",
        "colab": {
          "base_uri": "https://localhost:8080/"
        },
        "outputId": "a4d4550c-3820-414f-c2b6-1b106847b512"
      },
      "source": [
        "np.corrcoef(s1,s2) #correlation을 하면 r값을 뱉어줌. \n",
        "#4개가 나오는데 첫번째는 1.000000 10의 00승 즉 그냥 1\n",
        "#2.41915449의 -17승이니 사실상 0임.\n",
        "#결국\n",
        "1.0\n",
        "0.1\n",
        "의 값인 것.\n",
        "#이것과 자기자신(s1,s1), 이것과 다른 것(s1,s2)\n",
        "이것과 다른 것(s2,s1), 자기자신 (s2,s2)\n"
      ],
      "execution_count": null,
      "outputs": [
        {
          "output_type": "execute_result",
          "data": {
            "text/plain": [
              "array([[1.00000000e+00, 2.41915449e-17],\n",
              "       [2.41915449e-17, 1.00000000e+00]])"
            ]
          },
          "metadata": {},
          "execution_count": 26
        }
      ]
    }
  ]
}