{
  "nbformat": 4,
  "nbformat_minor": 0,
  "metadata": {
    "colab": {
      "provenance": [],
      "include_colab_link": true
    },
    "kernelspec": {
      "name": "python3",
      "display_name": "Python 3"
    },
    "language_info": {
      "name": "python"
    }
  },
  "cells": [
    {
      "cell_type": "markdown",
      "metadata": {
        "id": "view-in-github",
        "colab_type": "text"
      },
      "source": [
        "<a href=\"https://colab.research.google.com/github/heejininku/class2022Fall/blob/main/20221111(1)_%EA%B5%90%EB%B3%B4API.ipynb\" target=\"_parent\"><img src=\"https://colab.research.google.com/assets/colab-badge.svg\" alt=\"Open In Colab\"/></a>"
      ]
    },
    {
      "cell_type": "markdown",
      "source": [
        "크롤링: 긁어서 가져오는 것\n",
        "교보문고_데미안 사례\n",
        "독문과 교수님 리뷰분석 도움을 준 이야기 하심\n",
        "\n",
        "*아래처럼 코딩 사용하는 것이\n",
        "카피 페이스트 한 것보다 정보의 질이 훨씬 좋음. \n",
        "코딩 동기부여를 하기 위한 소개라고 하심.\n",
        "우리가 배운 내용들 활용임."
      ],
      "metadata": {
        "id": "fb4GnWPqG5PV"
      }
    },
    {
      "cell_type": "code",
      "source": [
        "import pandas as pd #import해서 package 받아오는 것 \n",
        "#새로 만드는 것보다 있는 것을 가져오는 게 더 중요 #어떤 패키지인지가 중요\n",
        "#pandas: 파이썬 내에서 엑셀처리,유지보수 등을 하는 느낌/ 중요한 패키지\n",
        "import json #구조적으로 데이터 받아주는 것.\n",
        "import requests\n",
        "def get_INFO(url,header): #함수를 만든 것\n",
        "  return json.loads(requests.get(url,headers=header).text) \n",
        "  #return 옆에 바로 함수 requests.get(url,headers=header) (requests 안에 있는 requests.get 쓴 것. #어떤 인터넷 사이트 접속해서 정보 가져오는 것이 request\n",
        "  #지금 함수 속에 함수 들어간 것."
      ],
      "metadata": {
        "id": "nhZj-Bi8Atg2"
      },
      "execution_count": null,
      "outputs": []
    },
    {
      "cell_type": "markdown",
      "source": [
        "아래 것이 핵심"
      ],
      "metadata": {
        "id": "8eg_au4lHBnQ"
      }
    },
    {
      "cell_type": "code",
      "execution_count": null,
      "metadata": {
        "id": "lUZeqy7WAqB_"
      },
      "outputs": [],
      "source": [
        "header = {\"User-Agent\": \"Mozilla/5.0 (Macintosh; Intel Mac OS X 10_15_7) AppleWebKit/605.1.15 (KHTML, like Gecko) Version/15.6 Safari/605.1.15\",}"
      ]
    },
    {
      "cell_type": "code",
      "source": [
        "url='https://product.kyobobook.co.kr/api/review/list?page=1&pageLimit=10000&reviewSort=001&revwPatrCode=000&saleCmdtid=S000000620181'\n",
        "#일종의 약속 ? 직전까지가 ~에 무엇을 요청한다! 일종의 함수, page 이후부터가 입력임. \n",
        "#입력은 &로 나뉘어져있음.(pagelimit은 어떻게 해줘~ reviewsort는 어떻게 해줘~등등)\n",
        "INFO = get_INFO(url,header) #만든 함수(get_INFO)를 url을 변수로 입력 넣고 \n",
        "df = pd.DataFrame(INFO['data']['reviewList']) #INFO가 지금 리스트인가봄 #데이터프레임으로 만들고 df 처리\n",
        "\n",
        "n=0\n",
        "for text in df['revwCntt']: #for로 반복: 쓰는 법은 저번시간에 배움.\n",
        "  df['revwCntt'][n] = text.replace(\"&nbsp\", \"\") #text.replace라는 함수\n",
        "  n += 1"
      ],
      "metadata": {
        "id": "j4Cj1FNgAyDU",
        "colab": {
          "base_uri": "https://localhost:8080/"
        },
        "outputId": "11f0bafb-2bb0-4cd9-da2f-1ebc81d9bb5e"
      },
      "execution_count": null,
      "outputs": [
        {
          "output_type": "stream",
          "name": "stderr",
          "text": [
            "/usr/local/lib/python3.7/dist-packages/ipykernel_launcher.py:7: SettingWithCopyWarning: \n",
            "A value is trying to be set on a copy of a slice from a DataFrame\n",
            "\n",
            "See the caveats in the documentation: https://pandas.pydata.org/pandas-docs/stable/user_guide/indexing.html#returning-a-view-versus-a-copy\n",
            "  import sys\n"
          ]
        }
      ]
    },
    {
      "cell_type": "code",
      "source": [
        "df.to_excel('review.xls') #엑셀로 저장시키라고 한 것\n",
        "#이게 끝나면 옆에 엑셀파일 다운로드 가능해짐."
      ],
      "metadata": {
        "id": "yJmNONfitTtH",
        "colab": {
          "base_uri": "https://localhost:8080/"
        },
        "outputId": "0bdd64ca-0b7e-439d-ee2d-eb9f595ca0af"
      },
      "execution_count": null,
      "outputs": [
        {
          "output_type": "stream",
          "name": "stderr",
          "text": [
            "/usr/local/lib/python3.7/dist-packages/ipykernel_launcher.py:1: FutureWarning: As the xlwt package is no longer maintained, the xlwt engine will be removed in a future version of pandas. This is the only engine in pandas that supports writing in the xls format. Install openpyxl and write to an xlsx file instead. You can set the option io.excel.xls.writer to 'xlwt' to silence this warning. While this option is deprecated and will also raise a warning, it can be globally set and the warning suppressed.\n",
            "  \"\"\"Entry point for launching an IPython kernel.\n"
          ]
        }
      ]
    },
    {
      "cell_type": "markdown",
      "source": [
        "이게 지금 교보문고 사례이고\n",
        "yes24 도 들어가보니까 내부적인 것이 너무 지저분\n",
        "다음 내용이 yes24"
      ],
      "metadata": {
        "id": "MYbLbMkEJHD7"
      }
    },
    {
      "cell_type": "markdown",
      "source": [
        "교보문고에서 해킹(?)하는 방법도 알려주심.\n",
        "크롬 내에서 developer 개발자모드\n",
        "developer tools 누르면 오른쪽에 이상한 화면 나옴\n",
        "\n",
        "기본적으로 모든 인터넷은\n",
        "사용자/제공자로 나뉨\n",
        "우리는 클라이언트/그들의 정보제공 컴퓨터는 서버컴퓨터 \n",
        "우리는 클라이언트로 서버에 정보요청할 때 request한다고 표현\n",
        "heather에 보면 request url이라고 나옴\n",
        "REST로 request하는 게 일반적_ 보내는 방식에 일종의 약속이 있음."
      ],
      "metadata": {
        "id": "oabnVEvaKvj9"
      }
    }
  ]
}