{
  "nbformat": 4,
  "nbformat_minor": 0,
  "metadata": {
    "colab": {
      "provenance": [],
      "include_colab_link": true
    },
    "kernelspec": {
      "name": "python3",
      "display_name": "Python 3"
    },
    "language_info": {
      "name": "python"
    }
  },
  "cells": [
    {
      "cell_type": "markdown",
      "metadata": {
        "id": "view-in-github",
        "colab_type": "text"
      },
      "source": [
        "<a href=\"https://colab.research.google.com/github/heejininku/class2022Fall/blob/main/20221104(5)_packages.ipynb\" target=\"_parent\"><img src=\"https://colab.research.google.com/assets/colab-badge.svg\" alt=\"Open In Colab\"/></a>"
      ]
    },
    {
      "cell_type": "markdown",
      "source": [
        "패키지를 불러오는 것이 import"
      ],
      "metadata": {
        "id": "grfCNyFFen-r"
      }
    },
    {
      "cell_type": "code",
      "execution_count": null,
      "metadata": {
        "id": "yUr2PYRXCHJT"
      },
      "outputs": [],
      "source": [
        "import numpy \n",
        "import pandas #가장많이사용\n",
        "import matplotlib\n",
        "import seaborn\n",
        "import sklearn #머신러닝 관련\n",
        "import requests\n",
        "import urllib3\n",
        "import nltk #자연어처리 관련\n",
        "import PIL\n",
        "import pytest\n",
        "import librosa"
      ]
    }
  ]
}