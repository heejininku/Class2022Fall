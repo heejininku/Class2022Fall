{
  "nbformat": 4,
  "nbformat_minor": 0,
  "metadata": {
    "kernelspec": {
      "display_name": "Python 3",
      "language": "python",
      "name": "python3"
    },
    "language_info": {
      "codemirror_mode": {
        "name": "ipython",
        "version": 3
      },
      "file_extension": ".py",
      "mimetype": "text/x-python",
      "name": "python",
      "nbconvert_exporter": "python",
      "pygments_lexer": "ipython3",
      "version": "3.7.1"
    },
    "colab": {
      "provenance": [],
      "include_colab_link": true
    }
  },
  "cells": [
    {
      "cell_type": "markdown",
      "metadata": {
        "id": "view-in-github",
        "colab_type": "text"
      },
      "source": [
        "<a href=\"https://colab.research.google.com/github/heejininku/class2022Fall/blob/main/20221104(1)_variables.ipynb\" target=\"_parent\"><img src=\"https://colab.research.google.com/assets/colab-badge.svg\" alt=\"Open In Colab\"/></a>"
      ]
    },
    {
      "cell_type": "markdown",
      "source": [
        "요즘에는 텍스트 꾸미는 마크다운이 유행"
      ],
      "metadata": {
        "id": "eNNp738LGDv0"
      }
    },
    {
      "cell_type": "markdown",
      "source": [
        "언어는 Sequence of words임. 단어가 뜻을 가지고 있어야 함.\n",
        "단어(->variable)와 문법(->syntax)이 있으면 된다."
      ],
      "metadata": {
        "id": "oRNiVuVjEW62"
      }
    },
    {
      "cell_type": "markdown",
      "source": [
        "a가 변수(왼쪽), 오른쪽은 meaning, 또는 contents, = 는 assign (할당)"
      ],
      "metadata": {
        "id": "PF0yAdWjFABC"
      }
    },
    {
      "cell_type": "markdown",
      "source": [
        "왼쪽 맨 아래 파일 모양은 디렉토리를 보여주는 것.\n",
        "그 위에는 변수의 현황을 보여줌."
      ],
      "metadata": {
        "id": "RVGARdY6G1f-"
      }
    },
    {
      "cell_type": "code",
      "source": [
        "a = 'lag2f'\n",
        "b = 2"
      ],
      "metadata": {
        "id": "wVCHMDGjFPhE"
      },
      "execution_count": null,
      "outputs": []
    },
    {
      "cell_type": "code",
      "source": [
        "c = {2,3,'abc',3.2,b} #b는 여기서 그냥 2임"
      ],
      "metadata": {
        "id": "7MhfVCbgIjV6"
      },
      "execution_count": null,
      "outputs": []
    },
    {
      "cell_type": "markdown",
      "source": [
        "변수의 유형 - 크게 두 가지 : 글자, 숫자\n",
        "\n",
        "글자는 ' ' 표시하기 '1'이라고 쓰면 1이라는 text가 되는 것 (string)\n",
        "\n",
        "숫자에서는 1. 정수 : 소수점 없는 것 -> int / 2. 실수 : 소수점 있는 것-> 'flot'\n",
        "\n",
        "여러개를 한번에 묶어놓은 것은 list-> 예- c = {2,3,'abc',3.2,b}\n",
        "리스트에는 상수도 정수도 스트링도 다 가능함.\n",
        "\n",
        "print (a) = 하면 변수 a의 정보가 나옴. -> print라는 함수\n",
        "\n",
        "함수: 입력과 출력이 있는 것. (형태는 영어있고 ()있는 형태)"
      ],
      "metadata": {
        "id": "ADY8plaEHOCt"
      }
    },
    {
      "cell_type": "code",
      "metadata": {
        "id": "goAyoU7vRheI",
        "outputId": "737a0559-17f4-4d5b-fda9-35903c401df8",
        "colab": {
          "base_uri": "https://localhost:8080/"
        }
      },
      "source": [
        "a = 1; print(type(a)) #;는 밑으로 적기 싫을 때"
      ],
      "execution_count": null,
      "outputs": [
        {
          "output_type": "stream",
          "name": "stdout",
          "text": [
            "<class 'int'>\n"
          ]
        }
      ]
    },
    {
      "cell_type": "code",
      "metadata": {
        "id": "txxnoqJuRheJ",
        "outputId": "d29c34c5-3d3f-4171-8594-72e57251a5f0",
        "colab": {
          "base_uri": "https://localhost:8080/"
        }
      },
      "source": [
        "a = 1.1; print(type(a))"
      ],
      "execution_count": null,
      "outputs": [
        {
          "output_type": "stream",
          "name": "stdout",
          "text": [
            "<class 'float'>\n"
          ]
        }
      ]
    },
    {
      "cell_type": "code",
      "metadata": {
        "id": "SyP0PB86RheL",
        "outputId": "fde2cb18-b4ed-4850-a265-4326e655c21c",
        "colab": {
          "base_uri": "https://localhost:8080/"
        }
      },
      "source": [
        "a = '123'; print(type(a)); print(a[1]) #a[0]이 리스트의 첫번째임."
      ],
      "execution_count": null,
      "outputs": [
        {
          "output_type": "stream",
          "name": "stdout",
          "text": [
            "<class 'str'>\n",
            "2\n"
          ]
        }
      ]
    },
    {
      "cell_type": "code",
      "metadata": {
        "id": "EKYj0dvIHPo0",
        "outputId": "062e4e16-357a-4f2e-8404-c334f210525f",
        "colab": {
          "base_uri": "https://localhost:8080/"
        }
      },
      "source": [
        "a = 'hello'; print(type(a)); print(a[1])"
      ],
      "execution_count": null,
      "outputs": [
        {
          "output_type": "stream",
          "name": "stdout",
          "text": [
            "<class 'str'>\n",
            "e\n"
          ]
        }
      ]
    },
    {
      "cell_type": "code",
      "metadata": {
        "id": "Df6PhU-tHXr2",
        "outputId": "e21d27d3-7e09-4548-fd4e-88557aee4a62",
        "colab": {
          "base_uri": "https://localhost:8080/"
        }
      },
      "source": [
        "a = [1, 2, 3, 4]; print(type(a)); print(a[0]) #순서를 가지고 오는 경우는 string이나 list (숫자는 그닥 의미가 x)"
      ],
      "execution_count": null,
      "outputs": [
        {
          "output_type": "stream",
          "name": "stdout",
          "text": [
            "<class 'list'>\n",
            "1\n"
          ]
        }
      ]
    },
    {
      "cell_type": "code",
      "metadata": {
        "id": "DfS-gknCRheL",
        "outputId": "07aa053d-2cff-4014-a19d-00998bf1cb01",
        "colab": {
          "base_uri": "https://localhost:8080/"
        }
      },
      "source": [
        "a = [1,'a', [3, '4']]; print(type(a)); print(a[0]); print(a[1]); print(a[2]); print(a[2][1]) #a의 2번째의 또 1번째 (계속 들어갈 수 있음)"
      ],
      "execution_count": null,
      "outputs": [
        {
          "output_type": "stream",
          "name": "stdout",
          "text": [
            "<class 'list'>\n",
            "1\n",
            "a\n",
            "[3, '4']\n",
            "4\n"
          ]
        }
      ]
    },
    {
      "cell_type": "code",
      "metadata": {
        "id": "2sivfloGRheM",
        "outputId": "5e9c91ac-60c4-4a0f-9ddb-6ef2f89cd321",
        "colab": {
          "base_uri": "https://localhost:8080/"
        }
      },
      "source": [
        "a =\t{\"a\": \"apple\", \"b\": \"orange\", \"c\": 2014} #이게 dictionary #정보가 1차원인게 list #2차원의 정보(정보 하나 추가)는 dictionary\n",
        "#앞이 key, # 이렇게 # 하는게 comment out임\n",
        "print(type(a))\n",
        "print(a[\"a\"]) #dict는 list와 달리 숫자개념으로 찾는 거가 아님."
      ],
      "execution_count": null,
      "outputs": [
        {
          "output_type": "stream",
          "name": "stdout",
          "text": [
            "<class 'dict'>\n",
            "apple\n"
          ]
        }
      ]
    }
  ]
}