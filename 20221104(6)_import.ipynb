{
  "nbformat": 4,
  "nbformat_minor": 0,
  "metadata": {
    "colab": {
      "provenance": [],
      "include_colab_link": true
    },
    "kernelspec": {
      "name": "python3",
      "display_name": "Python 3"
    },
    "language_info": {
      "name": "python"
    }
  },
  "cells": [
    {
      "cell_type": "markdown",
      "metadata": {
        "id": "view-in-github",
        "colab_type": "text"
      },
      "source": [
        "<a href=\"https://colab.research.google.com/github/heejininku/class2022Fall/blob/main/20221104(6)_import.ipynb\" target=\"_parent\"><img src=\"https://colab.research.google.com/assets/colab-badge.svg\" alt=\"Open In Colab\"/></a>"
      ]
    },
    {
      "cell_type": "code",
      "metadata": {
        "id": "JXicrkYOzPRo"
      },
      "source": [
        "import numpy as np \n",
        "n = np.random.randn(1000)  #숫자가 커질수록 아래의 히스토그램이 더 정규분포처럼 보임\n",
        "#패키지 np라는 폴더 안에 random이라는 폴더가 있고 그 속에 함수 randn이 있는 것.(100개의 랜덤넘버 만들어주는 것 0을 평균으로 하고 표준편차 1정도의 수)\n",
        "#입력으로 나오는 array가 마치 리스트인 것 같은 것."
      ],
      "execution_count": null,
      "outputs": []
    },
    {
      "cell_type": "code",
      "metadata": {
        "id": "oKT4vn4MwyLA",
        "colab": {
          "base_uri": "https://localhost:8080/",
          "height": 358
        },
        "outputId": "bfaf160c-3e9b-4f3a-80da-0f1bad655938"
      },
      "source": [
        "import matplotlib #matplotlib는 시각화해주는 패키지\n",
        "matplotlib.pyplot.hist(n) #hist라는 함수로 히스토그램 보이게 하는 것. (지금은 디폴트로 설정. 더 복잡히 쓴다면  bin 크기도 조절하기도)\n",
        "#y축은 빈도수임. 즉, 이 칸 안에 들어가는 숫자들이 몇 번 나왔는가 #얼추 정규분포처럼 보임"
      ],
      "execution_count": null,
      "outputs": [
        {
          "output_type": "execute_result",
          "data": {
            "text/plain": [
              "(array([  5.,  12.,  56., 138., 227., 274., 185.,  72.,  28.,   3.]),\n",
              " array([-3.56362423, -2.87339341, -2.18316259, -1.49293177, -0.80270095,\n",
              "        -0.11247013,  0.57776069,  1.26799152,  1.95822234,  2.64845316,\n",
              "         3.33868398]),\n",
              " <a list of 10 Patch objects>)"
            ]
          },
          "metadata": {},
          "execution_count": 5
        },
        {
          "output_type": "display_data",
          "data": {
            "text/plain": [
              "<Figure size 432x288 with 1 Axes>"
            ],
            "image/png": "[encoded data removed]"
          },
          "metadata": {
            "needs_background": "light"
          }
        }
      ]
    },
    {
      "cell_type": "code",
      "metadata": {
        "colab": {
          "base_uri": "https://localhost:8080/",
          "height": 358
        },
        "id": "zQJ4LnbA-Hvz",
        "outputId": "b3f56f4b-8028-49b2-eaa6-571b89dd52d2"
      },
      "source": [
        "import matplotlib.pyplot\n",
        "matplotlib.pyplot.hist(n)"
      ],
      "execution_count": null,
      "outputs": [
        {
          "output_type": "execute_result",
          "data": {
            "text/plain": [
              "(array([  5.,  12.,  56., 138., 227., 274., 185.,  72.,  28.,   3.]),\n",
              " array([-3.56362423, -2.87339341, -2.18316259, -1.49293177, -0.80270095,\n",
              "        -0.11247013,  0.57776069,  1.26799152,  1.95822234,  2.64845316,\n",
              "         3.33868398]),\n",
              " <a list of 10 Patch objects>)"
            ]
          },
          "metadata": {},
          "execution_count": 6
        },
        {
          "output_type": "display_data",
          "data": {
            "text/plain": [
              "<Figure size 432x288 with 1 Axes>"
            ],
            "image/png": "[encoded data removed]"
          },
          "metadata": {
            "needs_background": "light"
          }
        }
      ]
    },
    {
      "cell_type": "code",
      "metadata": {
        "id": "AWU6awi53c07",
        "outputId": "9b569091-eec3-4d6c-9104-ffc374dfcd0e",
        "colab": {
          "base_uri": "https://localhost:8080/",
          "height": 358
        }
      },
      "source": [
        "import matplotlib.pyplot as plt #더 간단히 표현하는 방법 #이 방법을 젤 많이 사용함\n",
        "plt.hist(n)"
      ],
      "execution_count": null,
      "outputs": [
        {
          "output_type": "execute_result",
          "data": {
            "text/plain": [
              "(array([  5.,  12.,  56., 138., 227., 274., 185.,  72.,  28.,   3.]),\n",
              " array([-3.56362423, -2.87339341, -2.18316259, -1.49293177, -0.80270095,\n",
              "        -0.11247013,  0.57776069,  1.26799152,  1.95822234,  2.64845316,\n",
              "         3.33868398]),\n",
              " <a list of 10 Patch objects>)"
            ]
          },
          "metadata": {},
          "execution_count": 7
        },
        {
          "output_type": "display_data",
          "data": {
            "text/plain": [
              "<Figure size 432x288 with 1 Axes>"
            ],
            "image/png": "[encoded data removed]"
          },
          "metadata": {
            "needs_background": "light"
          }
        }
      ]
    },
    {
      "cell_type": "markdown",
      "source": [
        "## from import를 쓰면 import as처럼 축약해서 부를 수 있는 효과\n",
        "편의상 사용하는 것."
      ],
      "metadata": {
        "id": "v1zA2xRWzpdu"
      }
    },
    {
      "cell_type": "code",
      "metadata": {
        "colab": {
          "base_uri": "https://localhost:8080/",
          "height": 358
        },
        "id": "moIjn3Kv-Hqy",
        "outputId": "b886c9fc-e8b1-4a4b-f795-02cd553f9515"
      },
      "source": [
        "from matplotlib import pyplot #matplotlib에서 pyplot만을 불러와라\n",
        "pyplot.hist(n)"
      ],
      "execution_count": null,
      "outputs": [
        {
          "output_type": "execute_result",
          "data": {
            "text/plain": [
              "(array([  5.,  12.,  56., 138., 227., 274., 185.,  72.,  28.,   3.]),\n",
              " array([-3.56362423, -2.87339341, -2.18316259, -1.49293177, -0.80270095,\n",
              "        -0.11247013,  0.57776069,  1.26799152,  1.95822234,  2.64845316,\n",
              "         3.33868398]),\n",
              " <a list of 10 Patch objects>)"
            ]
          },
          "metadata": {},
          "execution_count": 8
        },
        {
          "output_type": "display_data",
          "data": {
            "text/plain": [
              "<Figure size 432x288 with 1 Axes>"
            ],
            "image/png": "[encoded data removed]"
          },
          "metadata": {
            "needs_background": "light"
          }
        }
      ]
    },
    {
      "cell_type": "code",
      "metadata": {
        "colab": {
          "base_uri": "https://localhost:8080/",
          "height": 358
        },
        "id": "ORo259i7_Uqi",
        "outputId": "48fe3a98-b774-426f-fe28-49f1bb018f62"
      },
      "source": [
        "from matplotlib.pyplot import hist\n",
        "hist(n)"
      ],
      "execution_count": null,
      "outputs": [
        {
          "output_type": "execute_result",
          "data": {
            "text/plain": [
              "(array([  5.,  12.,  56., 138., 227., 274., 185.,  72.,  28.,   3.]),\n",
              " array([-3.56362423, -2.87339341, -2.18316259, -1.49293177, -0.80270095,\n",
              "        -0.11247013,  0.57776069,  1.26799152,  1.95822234,  2.64845316,\n",
              "         3.33868398]),\n",
              " <a list of 10 Patch objects>)"
            ]
          },
          "metadata": {},
          "execution_count": 10
        },
        {
          "output_type": "display_data",
          "data": {
            "text/plain": [
              "<Figure size 432x288 with 1 Axes>"
            ],
            "image/png": "[encoded data removed]"
          },
          "metadata": {
            "needs_background": "light"
          }
        }
      ]
    }
  ]
}